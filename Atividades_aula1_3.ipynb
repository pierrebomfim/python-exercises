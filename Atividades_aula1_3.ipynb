{
  "nbformat": 4,
  "nbformat_minor": 0,
  "metadata": {
    "colab": {
      "name": "Atividades_aula1-3.ipynb",
      "provenance": [],
      "authorship_tag": "ABX9TyORjHSruo8KUoEuD0omOXhQ",
      "include_colab_link": true
    },
    "kernelspec": {
      "name": "python3",
      "display_name": "Python 3"
    }
  },
  "cells": [
    {
      "cell_type": "markdown",
      "metadata": {
        "id": "view-in-github",
        "colab_type": "text"
      },
      "source": [
        "<a href=\"https://colab.research.google.com/github/pierrebomfim/python-exercises/blob/master/Atividades_aula1_3.ipynb\" target=\"_parent\"><img src=\"https://colab.research.google.com/assets/colab-badge.svg\" alt=\"Open In Colab\"/></a>"
      ]
    },
    {
      "cell_type": "markdown",
      "metadata": {
        "id": "UlPaTcCVSnyN"
      },
      "source": [
        "Atividade do aluno - aula 01"
      ]
    },
    {
      "cell_type": "code",
      "metadata": {
        "id": "5rBc_OxgSwlJ"
      },
      "source": [
        "\"\"\"\n",
        "Faça um programa que realize o cálculo da média utilizando a linguagem Python. Para isso,\n",
        "peça ao usuário o valor de quatros notas de provas, faça o cálculo da média e retorne se o\n",
        "aluno foi aprovado ou reprovado para o usuário. Para um aluno ser aprovado, sua média\n",
        "deve ser igual ou superior a sete. Utilize o conceito de funções para resolver este problema. 29/09/2020\n",
        "\"\"\"\n",
        "\n",
        "def ValorLista():\n",
        "    lista.append(float(input(\"Digite sua nota da prova 1: \")))\n",
        "    lista.append(float(input(\"Digite sua nota da prova 2: \")))\n",
        "    lista.append(float(input(\"Digite sua nota da prova 3: \")))\n",
        "    lista.append(float(input(\"Digite sua nota da prova 4: \")))\n",
        "\n",
        "def Media():\n",
        "    s = 0\n",
        "    for i in range (len(lista)):\n",
        "        s = s + lista[i]\n",
        "    m = s / 4\n",
        "    return m\n",
        "\n",
        "def Resultado():\n",
        "    if m >= 7:\n",
        "        print(\"Aprovado\")\n",
        "    else:\n",
        "        print(\"Reprovado\")\n",
        "\n",
        "lista = []\n",
        "ValorLista()\n",
        "m = Media()\n",
        "Resultado()"
      ],
      "execution_count": null,
      "outputs": []
    },
    {
      "cell_type": "code",
      "metadata": {
        "id": "gUGkoghzmx_u"
      },
      "source": [
        "Atividade do Aluno - Aula 02\n",
        "\n",
        "Exercício Proposto:\n",
        "Faça um programa que peça ao usuário valores inteiros para serem armazenados em uma\n",
        "lista. Os valores devem ser adicionados um a um e toda vez que um valor for adicionado,\n",
        "deve-se perguntar ao usuário se ele deseja adicionar mais elementos. Além da lista, crie\n",
        "duas funções, uma para ordenar os elementos e outra para verificar se um elemento está\n",
        "contido na lista. "
      ],
      "execution_count": null,
      "outputs": []
    },
    {
      "cell_type": "markdown",
      "metadata": {
        "id": "ijtxE1eXKQpL"
      },
      "source": [
        "# Atividade do Aluno - Aula 03\n",
        "\n",
        "Exercício Proposto:\n",
        "Crie um banco de dados SQL e uma tabela, denominada clientes, com o Python. A tabela\n",
        "clientes, deve ter os seguintes dados:\n",
        "• Nome;\n",
        "• Idade;\n",
        "• Endereço;\n",
        "Após a criação do banco e da tabela, adicione pelo menos dois registros nesta tabela. Para\n",
        "verificar se os registros foram mesmo adicionados, apresente-os para o usuário.\n",
        "Use módulos para separar a criação do banco das demais funcionalidades. "
      ]
    },
    {
      "cell_type": "code",
      "metadata": {
        "id": "mN2Crkj-ThA4"
      },
      "source": [
        "import sqlite3  #aqui no colab não precisa importar, já vem nativo\n",
        "\n",
        "# Móódulo para criação da Tabela\n",
        "\n",
        "conector = sqlite3.connect('atividade_3.db')\n",
        "cursor = conector.cursor()\n",
        "\n",
        "sql = \"\"\"\n",
        "    create table clientes (nome text, idade integer, endereço text)\n",
        "    \"\"\"\n",
        "cursor.execute(sql)\n",
        "conector.commit\n",
        "cursor.close()\n",
        "conector.close()"
      ],
      "execution_count": null,
      "outputs": []
    },
    {
      "cell_type": "code",
      "metadata": {
        "id": "sO8v7IcTUz-K"
      },
      "source": [
        "# Módulo para inserção de cliente \n",
        "\n",
        "conector = sqlite3.connect('atividade_3.db')\n",
        "cursor = conector.cursor()\n",
        "\n",
        "sql = \"\"\"\n",
        "    insert into clientes (nome, idade, endereço) values ('João', 22, 'Rua A. n 45, Centro. Aracaju - SE')\n",
        "    \"\"\"\n",
        "cursor.execute(sql)\n",
        "conector.commit()\n",
        "cursor.close()\n",
        "conector.close()"
      ],
      "execution_count": null,
      "outputs": []
    },
    {
      "cell_type": "code",
      "metadata": {
        "id": "920RkpiDW515"
      },
      "source": [
        "conector = sqlite3.connect('atividade_3.db')\n",
        "cursor = conector.cursor()\n",
        "\n",
        "sql = \"\"\"\n",
        "    insert into clientes (nome, idade, endereço) values ('Maria', 25, 'Rua Campos. n 50, Atalaia. Aracaju - SE')\n",
        "    \"\"\"\n",
        "cursor.execute(sql)\n",
        "conector.commit()\n",
        "cursor.close()\n",
        "conector.close()"
      ],
      "execution_count": null,
      "outputs": []
    },
    {
      "cell_type": "code",
      "metadata": {
        "id": "qYk7tu5PXI0C",
        "outputId": "17b684ff-753e-4285-d83e-c74c3c1a321d",
        "colab": {
          "base_uri": "https://localhost:8080/",
          "height": 69
        }
      },
      "source": [
        "# móódulo para consulta da tabela clientes\n",
        "conector = sqlite3.connect('atividade_3.db')\n",
        "cursor = conector.cursor()\n",
        "\n",
        "sql = \"select * from clientes\"\n",
        "cursor.execute(sql)\n",
        "dados = cursor.fetchall()\n",
        "for d in dados:\n",
        "  print(d[0], d[1], d[2])\n",
        "\n",
        "cursor.close()\n",
        "conector.close()"
      ],
      "execution_count": null,
      "outputs": [
        {
          "output_type": "stream",
          "text": [
            "João 22 Rua A. n 45, Centro. Aracaju - SE\n",
            "João 22 Rua A. n 45, Centro. Aracaju - SE\n",
            "Maria 25 Rua Campos. n 50, Atalaia. Aracaju - SE\n"
          ],
          "name": "stdout"
        }
      ]
    },
    {
      "cell_type": "code",
      "metadata": {
        "id": "-3SR62YSaP7K",
        "outputId": "f40e885c-19f8-4122-997a-31fa5374270c",
        "colab": {
          "base_uri": "https://localhost:8080/",
          "height": 34
        }
      },
      "source": [
        "# módulo para exclusão de um dado\n",
        "\n",
        "conector = sqlite3.connect('atividade_3.db')\n",
        "cursor = conector.cursor()\n",
        "\n",
        "def excluirCliente(Cod):\n",
        "  sql = \"delete from clientes where nome = :param\"\n",
        "  cursor.execute(sql, {'param': Cod})\n",
        "  conector.commit()\n",
        "  return print (f'Cliente {Cod} excluído.')\n",
        "\n",
        "excluirCliente('João')"
      ],
      "execution_count": null,
      "outputs": [
        {
          "output_type": "stream",
          "text": [
            "Cliente João excluído.\n"
          ],
          "name": "stdout"
        }
      ]
    },
    {
      "cell_type": "code",
      "metadata": {
        "id": "y-H7LePsc3Kf",
        "outputId": "68d598ed-935c-4122-a5fc-9ba1bfd98da0",
        "colab": {
          "base_uri": "https://localhost:8080/",
          "height": 34
        }
      },
      "source": [
        "# módulo para consulta da tabela clientes\n",
        "conector = sqlite3.connect('atividade_3.db')\n",
        "cursor = conector.cursor()\n",
        "\n",
        "sql = \"select * from clientes\"\n",
        "cursor.execute(sql)\n",
        "dados = cursor.fetchall()\n",
        "for d in dados:\n",
        "  print(d)\n",
        "\n",
        "cursor.close()\n",
        "conector.close()"
      ],
      "execution_count": null,
      "outputs": [
        {
          "output_type": "stream",
          "text": [
            "('Maria', 25, 'Rua Campos. n 50, Atalaia. Aracaju - SE')\n"
          ],
          "name": "stdout"
        }
      ]
    }
  ]
}