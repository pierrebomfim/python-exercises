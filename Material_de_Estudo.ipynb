{
  "nbformat": 4,
  "nbformat_minor": 0,
  "metadata": {
    "colab": {
      "name": "Material de Estudo.ipynb",
      "provenance": [],
      "authorship_tag": "ABX9TyPfgrNnBFkU/d1qSK+I04kN",
      "include_colab_link": true
    },
    "kernelspec": {
      "name": "python3",
      "display_name": "Python 3"
    }
  },
  "cells": [
    {
      "cell_type": "markdown",
      "metadata": {
        "id": "view-in-github",
        "colab_type": "text"
      },
      "source": [
        "<a href=\"https://colab.research.google.com/github/pierrebomfim/python-exercises/blob/master/Material_de_Estudo.ipynb\" target=\"_parent\"><img src=\"https://colab.research.google.com/assets/colab-badge.svg\" alt=\"Open In Colab\"/></a>"
      ]
    },
    {
      "cell_type": "code",
      "metadata": {
        "id": "IHrBTjlEb3il"
      },
      "source": [
        "# Material de Estudo U1S1 - Equação de segundo grau\n",
        "a = 2\n",
        "b = 0.5\n",
        "c = 1\n",
        "x = int(input(\"Digite o valor de x: \"))\n",
        "\n",
        "y = a * x ** 2 + b * x + c\n",
        "\n",
        "print(f\"O resultado de y para x = {x} é {y}.\")"
      ],
      "execution_count": null,
      "outputs": []
    },
    {
      "cell_type": "code",
      "metadata": {
        "id": "fPp19qfBZXmD"
      },
      "source": [
        "# Material de Estudos U1s2 - Cálculo de IR\n",
        "\n",
        "salario = 0\n",
        "salario = float(input(\"Digite o salário do colaborador: \"))\n",
        "\n",
        "if salario <= 1903.98:\n",
        "  print(\"Colaborador isento de IR\")\n",
        "elif salario <= 2826.65:\n",
        "  print(\"O valor de IR será R$ 142.80\")\n",
        "  print(f\"O salário líquido será de R$ {salario - 142.80}.\")\n",
        "elif salario <= 3751.05:\n",
        "  print(\"O valor de IR será de R$ 354.80.\")\n",
        "  print(f\"O salário líquido será de R$ {salario - 354.80}\")\n",
        "elif salario <= 4664.68:\n",
        "  print(\"O valor de IR será de R$ 636.13\")\n",
        "  print(f\"O salário líquido será de R$ {salario - 636.13}.\")\n",
        "else:\n",
        "  print(\"O IR será de R$ 869.36\")\n",
        "  print(f\"O salário líquido será de {salario - 869.36}\")"
      ],
      "execution_count": null,
      "outputs": []
    },
    {
      "cell_type": "code",
      "metadata": {
        "id": "pqu8OLK6cnqf",
        "outputId": "8a53b7ab-0e6a-4eff-daec-23c7e5f14515",
        "colab": {
          "base_uri": "https://localhost:8080/",
          "height": 34
        }
      },
      "source": [
        "# Material de Estudos U1s3 - Cálculo do total de vendas de um produto\n",
        "\n",
        "def calcular_valor(valor_prod, qtde, moeda='real', desconto=None, acrescimo=None):\n",
        "  v_bruto = valor_prod * qtde\n",
        "\n",
        "  if desconto:\n",
        "    v_liquido = v_bruto - ( v_bruto * (desconto/100))\n",
        "  elif acrescimo:\n",
        "    v_liquido = v_bruto + ( v_bruto * (acrescimo/100))\n",
        "  else:\n",
        "    v_liquido = v_bruto\n",
        "\n",
        "  if moeda == 'real':\n",
        "    return v_liquido\n",
        "  elif moeda =='dolar':\n",
        "    return v_liquido * 5\n",
        "  elif moeda == 'euro':\n",
        "    return v_liquido * 5.7\n",
        "  else:\n",
        "    print('Moeda não cadastrada!')\n",
        "    return 0\n",
        "\n",
        "valor_a_pagar = calcular_valor(valor_prod=32, qtde=5, moeda='real', desconto=5)\n",
        "print(f'O valor final da conta é {valor_a_pagar}.')\n"
      ],
      "execution_count": 18,
      "outputs": [
        {
          "output_type": "stream",
          "text": [
            "O valor final da conta é 152.0.\n"
          ],
          "name": "stdout"
        }
      ]
    }
  ]
}