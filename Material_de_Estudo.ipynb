{
  "nbformat": 4,
  "nbformat_minor": 0,
  "metadata": {
    "colab": {
      "name": "Material de Estudo.ipynb",
      "provenance": [],
      "authorship_tag": "ABX9TyPKhFRoEhwCKNMjjutevZa4",
      "include_colab_link": true
    },
    "kernelspec": {
      "name": "python3",
      "display_name": "Python 3"
    }
  },
  "cells": [
    {
      "cell_type": "markdown",
      "metadata": {
        "id": "view-in-github",
        "colab_type": "text"
      },
      "source": [
        "<a href=\"https://colab.research.google.com/github/pierrebomfim/python-exercises/blob/master/Material_de_Estudo.ipynb\" target=\"_parent\"><img src=\"https://colab.research.google.com/assets/colab-badge.svg\" alt=\"Open In Colab\"/></a>"
      ]
    },
    {
      "cell_type": "code",
      "metadata": {
        "id": "IHrBTjlEb3il",
        "outputId": "1bd7a53b-483c-4e81-d0b2-99fc2b5c19c1",
        "colab": {
          "base_uri": "https://localhost:8080/",
          "height": 51
        }
      },
      "source": [
        "# Material de Estudo U1S1 - Equação de segundo grau\n",
        "a = 2\n",
        "b = 0.5\n",
        "c = 1\n",
        "x = int(input(\"Digite o valor de x: \"))\n",
        "\n",
        "y = a * x ** 2 + b * x + c\n",
        "\n",
        "print(f\"O resultado de y para x = {x} é {y}.\")"
      ],
      "execution_count": 4,
      "outputs": [
        {
          "output_type": "stream",
          "text": [
            "Digite o valor de x: 3\n",
            "O resultado de y para x = 3 é 20.5.\n"
          ],
          "name": "stdout"
        }
      ]
    }
  ]
}