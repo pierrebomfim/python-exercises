{
  "nbformat": 4,
  "nbformat_minor": 0,
  "metadata": {
    "colab": {
      "name": "Material de Estudo.ipynb",
      "provenance": [],
      "authorship_tag": "ABX9TyNsNkEKjxxmEKP7qa0+idKK",
      "include_colab_link": true
    },
    "kernelspec": {
      "name": "python3",
      "display_name": "Python 3"
    }
  },
  "cells": [
    {
      "cell_type": "markdown",
      "metadata": {
        "id": "view-in-github",
        "colab_type": "text"
      },
      "source": [
        "<a href=\"https://colab.research.google.com/github/pierrebomfim/python-exercises/blob/master/Material_de_Estudo.ipynb\" target=\"_parent\"><img src=\"https://colab.research.google.com/assets/colab-badge.svg\" alt=\"Open In Colab\"/></a>"
      ]
    },
    {
      "cell_type": "code",
      "metadata": {
        "id": "IHrBTjlEb3il",
        "outputId": "1bd7a53b-483c-4e81-d0b2-99fc2b5c19c1",
        "colab": {
          "base_uri": "https://localhost:8080/",
          "height": 51
        }
      },
      "source": [
        "# Material de Estudo U1S1 - Equação de segundo grau\n",
        "a = 2\n",
        "b = 0.5\n",
        "c = 1\n",
        "x = int(input(\"Digite o valor de x: \"))\n",
        "\n",
        "y = a * x ** 2 + b * x + c\n",
        "\n",
        "print(f\"O resultado de y para x = {x} é {y}.\")"
      ],
      "execution_count": null,
      "outputs": [
        {
          "output_type": "stream",
          "text": [
            "Digite o valor de x: 3\n",
            "O resultado de y para x = 3 é 20.5.\n"
          ],
          "name": "stdout"
        }
      ]
    },
    {
      "cell_type": "code",
      "metadata": {
        "id": "fPp19qfBZXmD",
        "outputId": "6d6bbf3f-c30c-409b-b01e-663e55d186fe",
        "colab": {
          "base_uri": "https://localhost:8080/",
          "height": 68
        }
      },
      "source": [
        "# Material de Estudos U1s2 - Cálculo de IR\n",
        "\n",
        "salario = 0\n",
        "salario = float(input(\"Digite o salário do colaborador: \"))\n",
        "\n",
        "if salario <= 1903.98:\n",
        "  print(\"Colaborador isento de IR\")\n",
        "elif salario <= 2826.65:\n",
        "  print(\"O valor de IR será R$ 142.80\")\n",
        "  print(f\"O salário líquido será de R$ {salario - 142.80}.\")\n",
        "elif salario <= 3751.05:\n",
        "  print(\"O valor de IR será de R$ 354.80.\")\n",
        "  print(f\"O salário líquido será de R$ {salario - 354.80}\")\n",
        "elif salario <= 4664.68:\n",
        "  print(\"O valor de IR será de R$ 636.13\")\n",
        "  print(f\"O salário líquido será de R$ {salario - 636.13}.\")\n",
        "else:\n",
        "  print(\"O IR será de R$ 869.36\")\n",
        "  print(f\"O salário líquido será de {salario - 869.36}\")"
      ],
      "execution_count": 2,
      "outputs": [
        {
          "output_type": "stream",
          "text": [
            "Digite o salário do colaborador: 2000\n",
            "O valor de IR será R$ 142.80\n",
            "O salário líquido será de R$ 1857.2.\n"
          ],
          "name": "stdout"
        }
      ]
    },
    {
      "cell_type": "code",
      "metadata": {
        "id": "pqu8OLK6cnqf"
      },
      "source": [
        "# Material de Estudos U1s3 - "
      ],
      "execution_count": null,
      "outputs": []
    }
  ]
}