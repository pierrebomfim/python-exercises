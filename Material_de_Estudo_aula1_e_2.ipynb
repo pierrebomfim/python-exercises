{
  "nbformat": 4,
  "nbformat_minor": 0,
  "metadata": {
    "colab": {
      "name": "Material de Estudo_aula1_e_2.ipynb",
      "provenance": [],
      "authorship_tag": "ABX9TyPFQrwgAiZOfgceAoX/NEEi",
      "include_colab_link": true
    },
    "kernelspec": {
      "name": "python3",
      "display_name": "Python 3"
    }
  },
  "cells": [
    {
      "cell_type": "markdown",
      "metadata": {
        "id": "view-in-github",
        "colab_type": "text"
      },
      "source": [
        "<a href=\"https://colab.research.google.com/github/pierrebomfim/python-exercises/blob/master/Material_de_Estudo_aula1_e_2.ipynb\" target=\"_parent\"><img src=\"https://colab.research.google.com/assets/colab-badge.svg\" alt=\"Open In Colab\"/></a>"
      ]
    },
    {
      "cell_type": "markdown",
      "metadata": {
        "id": "2R7AfgLM65XY"
      },
      "source": [
        "# Foco no Mercado de Trabalho - aula 1"
      ]
    },
    {
      "cell_type": "code",
      "metadata": {
        "id": "IHrBTjlEb3il"
      },
      "source": [
        "# Material de Estudo U1S1 - Equação de segundo grau\n",
        "a = 2\n",
        "b = 0.5\n",
        "c = 1\n",
        "x = int(input(\"Digite o valor de x: \"))\n",
        "\n",
        "y = a * x ** 2 + b * x + c\n",
        "\n",
        "print(f\"O resultado de y para x = {x} é {y}.\")"
      ],
      "execution_count": null,
      "outputs": []
    },
    {
      "cell_type": "code",
      "metadata": {
        "id": "fPp19qfBZXmD"
      },
      "source": [
        "# Material de Estudos U1s2 - Cálculo de IR\n",
        "\n",
        "salario = 0\n",
        "salario = float(input(\"Digite o salário do colaborador: \"))\n",
        "\n",
        "if salario <= 1903.98:\n",
        "  print(\"Colaborador isento de IR\")\n",
        "elif salario <= 2826.65:\n",
        "  print(\"O valor de IR será R$ 142.80\")\n",
        "  print(f\"O salário líquido será de R$ {salario - 142.80}.\")\n",
        "elif salario <= 3751.05:\n",
        "  print(\"O valor de IR será de R$ 354.80.\")\n",
        "  print(f\"O salário líquido será de R$ {salario - 354.80}\")\n",
        "elif salario <= 4664.68:\n",
        "  print(\"O valor de IR será de R$ 636.13\")\n",
        "  print(f\"O salário líquido será de R$ {salario - 636.13}.\")\n",
        "else:\n",
        "  print(\"O IR será de R$ 869.36\")\n",
        "  print(f\"O salário líquido será de {salario - 869.36}\")"
      ],
      "execution_count": null,
      "outputs": []
    },
    {
      "cell_type": "code",
      "metadata": {
        "id": "pqu8OLK6cnqf",
        "outputId": "8a53b7ab-0e6a-4eff-daec-23c7e5f14515",
        "colab": {
          "base_uri": "https://localhost:8080/",
          "height": 34
        }
      },
      "source": [
        "# Material de Estudos U1s3 - Cálculo do total de vendas de um produto\n",
        "\n",
        "def calcular_valor(valor_prod, qtde, moeda='real', desconto=None, acrescimo=None):\n",
        "  v_bruto = valor_prod * qtde\n",
        "\n",
        "  if desconto:\n",
        "    v_liquido = v_bruto - ( v_bruto * (desconto/100))\n",
        "  elif acrescimo:\n",
        "    v_liquido = v_bruto + ( v_bruto * (acrescimo/100))\n",
        "  else:\n",
        "    v_liquido = v_bruto\n",
        "\n",
        "  if moeda == 'real':\n",
        "    return v_liquido\n",
        "  elif moeda =='dolar':\n",
        "    return v_liquido * 5\n",
        "  elif moeda == 'euro':\n",
        "    return v_liquido * 5.7\n",
        "  else:\n",
        "    print('Moeda não cadastrada!')\n",
        "    return 0\n",
        "\n",
        "valor_a_pagar = calcular_valor(valor_prod=32, qtde=5, moeda='real', desconto=5)\n",
        "print(f'O valor final da conta é {valor_a_pagar}.')\n"
      ],
      "execution_count": null,
      "outputs": [
        {
          "output_type": "stream",
          "text": [
            "O valor final da conta é 152.0.\n"
          ],
          "name": "stdout"
        }
      ]
    },
    {
      "cell_type": "markdown",
      "metadata": {
        "id": "riE7cbZT6Cl2"
      },
      "source": [
        "\n",
        "# **Aula 02 - u2s1** - Estruturas de Dados em Python"
      ]
    },
    {
      "cell_type": "code",
      "metadata": {
        "id": "G38REpm86EZN",
        "outputId": "9de71612-7bba-424e-867a-8d5caa17c671",
        "colab": {
          "base_uri": "https://localhost:8080/",
          "height": 258
        }
      },
      "source": [
        "#Sequência de caracteres\n",
        "\n",
        "texto = 'Aprendendo Python na disciplina de Linguagem de Programação.'\n",
        "\n",
        "print(f'A frase possui {len(texto)} caracteres.')\n",
        "print(f\"A palavra Python está em texto: {'Python' in texto}\")\n",
        "print(f\"Qtde de vezes que o caracter y aparece no texto: {texto.count('y')}\")\n",
        "print(f'As 5 primeiras letras do texto são {texto[0:6]}')\n",
        "print()\n",
        "\n",
        "#alterando string\n",
        "\n",
        "print(texto.upper())\n",
        "print(texto.replace('a', 'xx'))\n",
        "print()\n",
        "\n",
        "#cortando a frase com split\n",
        "\n",
        "palavras = texto.split()\n",
        "print(f'As palavras do texto são: {palavras}')\n",
        "print()\n",
        "\n",
        "# Exemplo\n",
        "\n",
        "texto_1 = \"\"\"Operadores de String\n",
        "Python oferece operadores para processar texto (ou seja, valores de string).\n",
        "Assim como os números, as strings podem ser comparadas usando operadores de comparação:\n",
        "==, !=, <, > e assim por diante.\n",
        "O operador ==, por exemplo, retorna True se as strings nos dois lados do operador tiverem o mesmo valor (Perkovic, p. 23, 2016).\n",
        "\"\"\"\n",
        "\n",
        "print(f'Tamanho do texto: {len(texto_1)}')\n",
        "\n",
        "texto_1 = texto_1.lower()\n",
        "\n",
        "texto_1 = texto_1.replace(',', \"\").replace('.', \"\").replace('(', \"\").replace(')', \"\").replace('/n', \"\")\n",
        "\n",
        "lista_de_palavras = texto_1.split()\n",
        "print(f'Lista de palavras: {lista_de_palavras}')\n",
        "\n",
        "string_strings = lista_de_palavras.count('string') + lista_de_palavras.count('strings')\n",
        "print(f'Qtde de vezes que string/strings aparecem: {string_strings}')\n",
        "\n",
        "\n"
      ],
      "execution_count": null,
      "outputs": [
        {
          "output_type": "stream",
          "text": [
            "A frase possui 60 caracteres.\n",
            "A palavra Python está em texto: True\n",
            "Qtde de vezes que o caracter y aparece no texto: 1\n",
            "As 5 primeiras letras do texto são Aprend\n",
            "\n",
            "APRENDENDO PYTHON NA DISCIPLINA DE LINGUAGEM DE PROGRAMAÇÃO.\n",
            "Aprendendo Python nxx disciplinxx de Linguxxgem de Progrxxmxxção.\n",
            "\n",
            "As palavras do texto são: ['Aprendendo', 'Python', 'na', 'disciplina', 'de', 'Linguagem', 'de', 'Programação.']\n",
            "\n",
            "Tamanho do texto: 348\n",
            "Lista de palavras: ['operadores', 'de', 'string', 'python', 'oferece', 'operadores', 'para', 'processar', 'texto', 'ou', 'seja', 'valores', 'de', 'string', 'assim', 'como', 'os', 'números', 'as', 'strings', 'podem', 'ser', 'comparadas', 'usando', 'operadores', 'de', 'comparação:', '==', '!=', '<', '>', 'e', 'assim', 'por', 'diante', 'o', 'operador', '==', 'por', 'exemplo', 'retorna', 'true', 'se', 'as', 'strings', 'nos', 'dois', 'lados', 'do', 'operador', 'tiverem', 'o', 'mesmo', 'valor', 'perkovic', 'p', '23', '2016']\n",
            "Qtde de vezes que string/strings aparecem: 4\n"
          ],
          "name": "stdout"
        }
      ]
    },
    {
      "cell_type": "markdown",
      "metadata": {
        "id": "88EGNWB7owZZ"
      },
      "source": [
        "## Listas\n",
        "\n",
        "\n",
        "\n",
        "\n"
      ]
    },
    {
      "cell_type": "code",
      "metadata": {
        "id": "wS_vRC5VpJEF",
        "outputId": "4feb3339-0b0b-4a8a-c5a3-1a3cb9965a24",
        "colab": {
          "base_uri": "https://localhost:8080/",
          "height": 102
        }
      },
      "source": [
        "vogais = ['a', 'e', 'i', 'o', 'u']\n",
        "\n",
        "for x in vogais:\n",
        "    print(f'Posição = {vogais.index(x)}  Valor = {x}')"
      ],
      "execution_count": null,
      "outputs": [
        {
          "output_type": "stream",
          "text": [
            "Posição = 0  Valor = a\n",
            "Posição = 1  Valor = e\n",
            "Posição = 2  Valor = i\n",
            "Posição = 3  Valor = o\n",
            "Posição = 4  Valor = u\n"
          ],
          "name": "stdout"
        }
      ]
    },
    {
      "cell_type": "code",
      "metadata": {
        "id": "SQh_JnoMqlUA",
        "outputId": "304127a4-8058-41fd-b9a0-b96be3a38f04",
        "colab": {
          "base_uri": "https://localhost:8080/",
          "height": 119
        }
      },
      "source": [
        "vogais = []\n",
        "\n",
        "print(f'Tipo do objeto vogais: {type(vogais)}')\n",
        "# append adiciona valor ao final da lista\n",
        "vogais.append('a')\n",
        "vogais.append('e')\n",
        "vogais.append('i')\n",
        "vogais.append('o')\n",
        "vogais.append('u')\n",
        "\n",
        "for p, v in enumerate(vogais):   #uso do enumerate\n",
        "  print(f'Posição = {p}  Valor = {v}')\n"
      ],
      "execution_count": null,
      "outputs": [
        {
          "output_type": "stream",
          "text": [
            "Tipo do objeto vogais: <class 'list'>\n",
            "Posição = 0  Valor = a\n",
            "Posição = 1  Valor = e\n",
            "Posição = 2  Valor = i\n",
            "Posição = 3  Valor = o\n",
            "Posição = 4  Valor = u\n"
          ],
          "name": "stdout"
        }
      ]
    },
    {
      "cell_type": "code",
      "metadata": {
        "id": "PdIDQlaVtkZD",
        "outputId": "b4e7e5c6-7676-4dd2-f407-192a134dabde",
        "colab": {
          "base_uri": "https://localhost:8080/",
          "height": 357
        }
      },
      "source": [
        "# Slice\n",
        "\n",
        "lista = ['Python', 30.15, \"Java\", 51, ['a', 'b', 20], 'maça'] #lista com diferentes tipos de dados\n",
        "\n",
        "print(f'Tamanho da Lista: {len(lista)}\\n')\n",
        "\n",
        "for p, i in enumerate(lista):\n",
        "  print(f'Posição = {p}\\t Valor = {i}\\t ---------> tipo individual = {type(i)}')\n",
        "\n",
        "print('\\nExemplos de Slice\\n')\n",
        "\n",
        "print(\"lista[1] = \", lista[1])\n",
        "print(\"lista[0:2] = \", lista[0:2])\n",
        "print(\"lista[:2] = \", lista[:2])\n",
        "print(\"lista[3:5] = \", lista[3:5])\n",
        "print(\"lista[3:6] = \", lista[3:6])\n",
        "print(\"lista[3:] = \", lista[3:])\n",
        "print(\"lista[-2] = \", lista[-2])\n",
        "print(\"lista[-1] = \", lista[-1])\n",
        "print(\"lista[4][1] = \", lista[4][1])\n",
        "\n"
      ],
      "execution_count": null,
      "outputs": [
        {
          "output_type": "stream",
          "text": [
            "Tamanho da Lista: 6\n",
            "\n",
            "Posição = 0\t Valor = Python\t ---------> tipo individual = <class 'str'>\n",
            "Posição = 1\t Valor = 30.15\t ---------> tipo individual = <class 'float'>\n",
            "Posição = 2\t Valor = Java\t ---------> tipo individual = <class 'str'>\n",
            "Posição = 3\t Valor = 51\t ---------> tipo individual = <class 'int'>\n",
            "Posição = 4\t Valor = ['a', 'b', 20]\t ---------> tipo individual = <class 'list'>\n",
            "Posição = 5\t Valor = maça\t ---------> tipo individual = <class 'str'>\n",
            "\n",
            "Exemplos de Slice\n",
            "\n",
            "lista[1] =  30.15\n",
            "lista[0:2] =  ['Python', 30.15]\n",
            "lista[:2] =  ['Python', 30.15]\n",
            "lista[3:5] =  [51, ['a', 'b', 20]]\n",
            "lista[3:6] =  [51, ['a', 'b', 20], 'maça']\n",
            "lista[3:] =  [51, ['a', 'b', 20], 'maça']\n",
            "lista[-2] =  ['a', 'b', 20]\n",
            "lista[-1] =  maça\n",
            "lista[4][1] =  b\n"
          ],
          "name": "stdout"
        }
      ]
    },
    {
      "cell_type": "code",
      "metadata": {
        "id": "UQTBdqoxybzB",
        "outputId": "1894bf98-3cf1-4f9f-d0c2-bfe6de0aadfb",
        "colab": {
          "base_uri": "https://localhost:8080/",
          "height": 102
        }
      },
      "source": [
        "## List comprehension - listcomp\n",
        "\n",
        "linguagens = ['Python', 'Java', 'Javascript', \"C\"]\n",
        "print(f'Antes da listcomp: {linguagens}')\n",
        "\n",
        "linguagens = [item.lower() for item in linguagens]\n",
        "print(f'Após a listcomp: {linguagens}')\n",
        "\n",
        "#Outra aplicação\n",
        "\n",
        "linguagens = '''Python Java Javascript C '''.split()\n",
        "linguagem_java = [item for item in linguagens if 'Java' in item]\n",
        "print('\\nNova Lista criada a partir da primeira, com os itens q tem o nome Java:')\n",
        "print(linguagem_java)\n"
      ],
      "execution_count": null,
      "outputs": [
        {
          "output_type": "stream",
          "text": [
            "Antes da listcomp: ['Python', 'Java', 'Javascript', 'C']\n",
            "Após a listcomp: ['python', 'java', 'javascript', 'c']\n",
            "\n",
            "Nova Lista criada a partir da primeira, com os itens q tem o nome Java:\n",
            "['Java', 'Javascript']\n"
          ],
          "name": "stdout"
        }
      ]
    },
    {
      "cell_type": "code",
      "metadata": {
        "id": "03Q08HBq1_hv",
        "outputId": "fa1a2762-c30c-4925-b8ed-739a3fcda661",
        "colab": {
          "base_uri": "https://localhost:8080/",
          "height": 238
        }
      },
      "source": [
        "#Funções map(), list() e filter()\n",
        "\n",
        "#Exemplo 1\n",
        "print('Exemplo 1')\n",
        "linguagens = '''Python Java Javascript C'''.split()\n",
        "\n",
        "nova_lista = map(lambda x: x.lower(), linguagens)\n",
        "print(f'A nova lista é: {nova_lista}\\n')\n",
        "\n",
        "nova_lista = list(nova_lista)\n",
        "print(f'Agora sim, a nova lista é: {nova_lista}')\n",
        "\n",
        "#Exemplo 2\n",
        "print('\\n\\nExemplo 2')\n",
        "numeros = [0, 1, 2, 3, 4, 5]\n",
        "\n",
        "quadrados = list(map(lambda x: x*x, numeros))\n",
        "print(f'Lista do número elevado a ele mesmo: {quadrados}')\n",
        "\n",
        "#Exemplo 3 - filter\n",
        "print('\\n\\nExemplo 3')\n",
        "numeros = list(range(0,21))\n",
        "print(f'Números de 0 à 20: {numeros}')\n",
        "\n",
        "numeros_pares = list(filter(lambda x: x % 2 == 0, numeros))\n",
        "print(f'Números pares: {numeros_pares}')"
      ],
      "execution_count": null,
      "outputs": [
        {
          "output_type": "stream",
          "text": [
            "Exemplo 1\n",
            "A nova lista é: <map object at 0x7fb0f07c0f98>\n",
            "\n",
            "Agora sim, a nova lista é: ['python', 'java', 'javascript', 'c']\n",
            "\n",
            "\n",
            "Exemplo 2\n",
            "Lista do número elevado a ele mesmo: [0, 1, 4, 9, 16, 25]\n",
            "\n",
            "\n",
            "Exemplo 3\n",
            "Números de 0 à 20: [0, 1, 2, 3, 4, 5, 6, 7, 8, 9, 10, 11, 12, 13, 14, 15, 16, 17, 18, 19, 20]\n",
            "Números pares: [0, 2, 4, 6, 8, 10, 12, 14, 16, 18, 20]\n"
          ],
          "name": "stdout"
        }
      ]
    },
    {
      "cell_type": "markdown",
      "metadata": {
        "id": "XsiLP9do6Zay"
      },
      "source": [
        "## Tulpas"
      ]
    },
    {
      "cell_type": "code",
      "metadata": {
        "id": "yY2Fu5iHqoBr",
        "outputId": "58edcc47-7325-4fa1-d884-7e2b9c7ccf9c",
        "colab": {
          "base_uri": "https://localhost:8080/",
          "height": 272
        }
      },
      "source": [
        "vogais = ('a', 'e', 'i', 'o', 'u')\n",
        "print(f'Tipo do objeto vogais: {type(vogais)}')\n",
        "\n",
        "for p, x in enumerate(vogais):\n",
        "  print(f'Posição = {p}\\t Valor = {x}')\n",
        "print()\n",
        "for item in enumerate(vogais):\n",
        "  print(item)\n",
        "print()\n",
        "print(tuple(enumerate(vogais)))\n",
        "print(list(enumerate(vogais)))"
      ],
      "execution_count": null,
      "outputs": [
        {
          "output_type": "stream",
          "text": [
            "Tipo do objeto vogais: <class 'tuple'>\n",
            "Posição = 0\t Valor = a\n",
            "Posição = 1\t Valor = e\n",
            "Posição = 2\t Valor = i\n",
            "Posição = 3\t Valor = o\n",
            "Posição = 4\t Valor = u\n",
            "\n",
            "(0, 'a')\n",
            "(1, 'e')\n",
            "(2, 'i')\n",
            "(3, 'o')\n",
            "(4, 'u')\n",
            "\n",
            "((0, 'a'), (1, 'e'), (2, 'i'), (3, 'o'), (4, 'u'))\n",
            "[(0, 'a'), (1, 'e'), (2, 'i'), (3, 'o'), (4, 'u')]\n"
          ],
          "name": "stdout"
        }
      ]
    },
    {
      "cell_type": "markdown",
      "metadata": {
        "id": "k6UAL3GK6eFZ"
      },
      "source": [
        "## Tipo *SET*"
      ]
    },
    {
      "cell_type": "code",
      "metadata": {
        "id": "RkRkQiQ0s1bK",
        "outputId": "df1f278a-0655-460e-938c-2b845da02dfa",
        "colab": {
          "base_uri": "https://localhost:8080/",
          "height": 102
        }
      },
      "source": [
        "vogais_1 = {'aeiou'} #sem uso do construtor\n",
        "print(type(vogais_1), vogais_1)\n",
        "\n",
        "vogais_2 = set('aeiouaaaa')  #construtor com string\n",
        "print(type(vogais_2), vogais_2)\n",
        "\n",
        "vogais_3 = set(['a', 'e', 'i', 'o', 'u']) #construtor com lista\n",
        "print(type(vogais_3), vogais_3)\n",
        "\n",
        "vogais_4 = set(('a', 'e', 'i', 'o', 'u')) # contrutor com tupla\n",
        "print(type(vogais_4), vogais_4)\n",
        "\n",
        "print(set('banana'))"
      ],
      "execution_count": null,
      "outputs": [
        {
          "output_type": "stream",
          "text": [
            "<class 'set'> {'aeiou'}\n",
            "<class 'set'> {'e', 'o', 'i', 'a', 'u'}\n",
            "<class 'set'> {'e', 'o', 'i', 'a', 'u'}\n",
            "<class 'set'> {'e', 'o', 'i', 'a', 'u'}\n",
            "{'n', 'b', 'a'}\n"
          ],
          "name": "stdout"
        }
      ]
    },
    {
      "cell_type": "code",
      "metadata": {
        "id": "OxMfmO3_vzMy",
        "outputId": "c02e88ef-05fd-45fa-c853-fa57d69ad00e",
        "colab": {
          "base_uri": "https://localhost:8080/",
          "height": 408
        }
      },
      "source": [
        "# Exemplo - uma loja de informática recebeu componentes usados de um computador para avaliar se estão com defeito. As peças que não estiverem com defeito podem ser colocadas à venda.\n",
        "\n",
        "def create_report():\n",
        "\n",
        "  componentes_verificados = set(['caixas de som', 'cooler', 'dissipador de calor', 'cpu', 'hd', 'estabilizador', 'gabinete', 'hub', 'impressora', 'joystick', 'memória ram', 'microfone', 'modem', 'monitor', 'mouse', 'no-break', 'placa de captura', 'placa de som', 'placa de vídeo', 'placa mãe', 'scanner', 'teclado', 'webcam'])\n",
        "  componentes_defeituosos = set(['hd', 'monitor', 'placa de som', 'scanner'])\n",
        "\n",
        "  componentes_ok = componentes_verificados.difference(componentes_defeituosos)\n",
        "\n",
        "  print(f'Foram verificados {len(componentes_verificados)} componentes, \\n dos quais {len(componentes_defeituosos)} estão defeituosos.\\n')\n",
        "\n",
        "  print('Os componentes que podem ser vendidos são:')\n",
        "  for item in componentes_ok:\n",
        "    print(item)\n",
        "\n",
        "\n",
        "create_report()\n",
        "\n",
        "\n"
      ],
      "execution_count": null,
      "outputs": [
        {
          "output_type": "stream",
          "text": [
            "Foram verificados 23 componentes, \n",
            " dos quais 4 estão defeituosos.\n",
            "\n",
            "Os componentes que podem ser vendidos são:\n",
            "webcam\n",
            "dissipador de calor\n",
            "placa de captura\n",
            "microfone\n",
            "memória ram\n",
            "estabilizador\n",
            "mouse\n",
            "modem\n",
            "impressora\n",
            "hub\n",
            "placa mãe\n",
            "no-break\n",
            "cooler\n",
            "cpu\n",
            "placa de vídeo\n",
            "joystick\n",
            "teclado\n",
            "caixas de som\n",
            "gabinete\n"
          ],
          "name": "stdout"
        }
      ]
    },
    {
      "cell_type": "markdown",
      "metadata": {
        "id": "lDtR-qiB6ifj"
      },
      "source": [
        "## Tipo *MAPPING*"
      ]
    },
    {
      "cell_type": "code",
      "metadata": {
        "id": "ptrxq0NbypE3",
        "outputId": "e58f4283-7116-4215-ece3-73d63abe57c5",
        "colab": {
          "base_uri": "https://localhost:8080/",
          "height": 34
        }
      },
      "source": [
        "# Exemplo 1 - Criação de dicionário vazio, com atribuição posterior de chave e valor\n",
        "\n",
        "dici_1 = {}\n",
        "dici_1['nome'] = 'João'\n",
        "dici_1['idade'] = 30\n",
        "\n",
        "# Exemplo 2 - Criação de dicionário usando um par de elementos na forma, chave : valor\n",
        "\n",
        "dici_2 = {'nome': 'João', 'idade': 30}\n",
        "\n",
        "# Exemplo 3 - Criação de dicionário com uma lista de tuplas. Cada tupla representa um par chave : valor\n",
        "\n",
        "dici_3 = dict([('nome', 'João'), ('idade', 30)])\n",
        "\n",
        "# Exemplo 4 - Criação de dicionário com a função built-in zip() e duas listas, uma com as chaves, outra com os valores.\n",
        "\n",
        "dici_4 = dict(zip(['nome', 'idade'], ['João', 30]))\n",
        "\n",
        "print(dici_1 == dici_2 == dici_3 == dici_4) # Testando se as diferentes construções resultamo em objetos iguais."
      ],
      "execution_count": null,
      "outputs": [
        {
          "output_type": "stream",
          "text": [
            "True\n"
          ],
          "name": "stdout"
        }
      ]
    },
    {
      "cell_type": "code",
      "metadata": {
        "id": "3B-yOPrL1_pJ",
        "outputId": "946d1827-6a75-4383-be2a-7202880c83c9",
        "colab": {
          "base_uri": "https://localhost:8080/",
          "height": 289
        }
      },
      "source": [
        "cadastro = {\n",
        "            'nome' : ['João', 'Ana', 'Pedro', 'Marcela'],\n",
        "            'cidade' : ['São Paulo', 'São Paulo', 'Rio de Janeiro', 'Curitiba'],\n",
        "            'idade' : [25, 33, 37, 18]\n",
        "            }\n",
        "print(\"len(cadastro) = \", len(cadastro))\n",
        "\n",
        "print(\"\\n cadastro.keys() =  \\n\", cadastro.keys())\n",
        "print(\"\\n cadastro.values() = \\n\", cadastro.values())\n",
        "print(\"\\n cadastro.items() = \\n\", cadastro.items())\n",
        "\n",
        "print(\"\\n cadastro['nome'] = \", cadastro['nome'])\n",
        "print(\"\\n cadastro['nome'][2] = \", cadastro['nome'][2])\n",
        "print(\"\\n cadastro['idade'][2:] = \", cadastro['idade'][2:])\n",
        "\n",
        "\n",
        "\n",
        "\n",
        "\n",
        "\n",
        "\n",
        "\n",
        "\n",
        "\n",
        "\n"
      ],
      "execution_count": null,
      "outputs": [
        {
          "output_type": "stream",
          "text": [
            "len(cadastro) =  3\n",
            "\n",
            " cadastro.keys() =  \n",
            " dict_keys(['nome', 'cidade', 'idade'])\n",
            "\n",
            " cadastro.values() = \n",
            " dict_values([['João', 'Ana', 'Pedro', 'Marcela'], ['São Paulo', 'São Paulo', 'Rio de Janeiro', 'Curitiba'], [25, 33, 37, 18]])\n",
            "\n",
            " cadastro.items() = \n",
            " dict_items([('nome', ['João', 'Ana', 'Pedro', 'Marcela']), ('cidade', ['São Paulo', 'São Paulo', 'Rio de Janeiro', 'Curitiba']), ('idade', [25, 33, 37, 18])])\n",
            "\n",
            " cadastro['nome'] =  ['João', 'Ana', 'Pedro', 'Marcela']\n",
            "\n",
            " cadastro['nome'][2] =  Pedro\n",
            "\n",
            " cadastro['idade'][2:] =  [37, 18]\n"
          ],
          "name": "stdout"
        }
      ]
    },
    {
      "cell_type": "markdown",
      "metadata": {
        "id": "CkBor_dO6sHx"
      },
      "source": [
        "## Tipo ARRAY NUMPY"
      ]
    },
    {
      "cell_type": "code",
      "metadata": {
        "id": "E-GZ50ql9R_d",
        "outputId": "23c4a834-8643-4e5f-faff-5a7b016fc0ed",
        "colab": {
          "base_uri": "https://localhost:8080/",
          "height": 408
        }
      },
      "source": [
        "import numpy\n",
        "\n",
        "m1 = numpy.zeros((3, 3)) # Cria matriz 3 x 3 somente com zero\n",
        "m2 = numpy.ones((2,2)) # Cria matriz 2 x 2 somente com um\n",
        "m3 = numpy.eye(4) # Cria matriz 4 x 4 identidade\n",
        "m4 = numpy.random.randint(low=0, high=100, size=10).reshape(2, 5) # Cria matriz 2 X 5 com números inteiros\n",
        "\n",
        "print('\\n numpy.zeros((3, 3)) = \\n', numpy.zeros((3, 3)))\n",
        "print('\\n numpy.ones((2,2)) = \\n', numpy.ones((2,2)))\n",
        "print('\\n numpy.eye(4) = \\n', numpy.eye(4))\n",
        "print('\\n m4 = \\n', m4)\n",
        "\n",
        "print(f\"Soma dos valores em m4 = {m4.sum()}\")\n",
        "print(f\"Valor mínimo em m4 = {m4.min()}\")\n",
        "print(f\"Valor máximo em m4 = {m4.max()}\")\n",
        "print(f\"Média dos valores em m4 = {m4.mean()}\")"
      ],
      "execution_count": null,
      "outputs": [
        {
          "output_type": "stream",
          "text": [
            "\n",
            " numpy.zeros((3, 3)) = \n",
            " [[0. 0. 0.]\n",
            " [0. 0. 0.]\n",
            " [0. 0. 0.]]\n",
            "\n",
            " numpy.ones((2,2)) = \n",
            " [[1. 1.]\n",
            " [1. 1.]]\n",
            "\n",
            " numpy.eye(4) = \n",
            " [[1. 0. 0. 0.]\n",
            " [0. 1. 0. 0.]\n",
            " [0. 0. 1. 0.]\n",
            " [0. 0. 0. 1.]]\n",
            "\n",
            " m4 = \n",
            " [[53 14  1 41 45]\n",
            " [ 8 27 14  7 94]]\n",
            "Soma dos valores em m4 = 304\n",
            "Valor mínimo em m4 = 1\n",
            "Valor máximo em m4 = 94\n",
            "Média dos valores em m4 = 30.4\n"
          ],
          "name": "stdout"
        }
      ]
    },
    {
      "cell_type": "markdown",
      "metadata": {
        "id": "lhJxKLcM9-U0"
      },
      "source": [
        "## u2s2 - Mercado de Trabalho"
      ]
    },
    {
      "cell_type": "markdown",
      "metadata": {
        "id": "xKj03EDn2g3W"
      },
      "source": [
        "*** Extrair uma lista com os dados das pessoas que ainda não receberam o email...\n",
        "\n",
        "dados_1 = {\n",
        "  'nome': ['Sonia Weber', 'Daryl Lowe', 'Vernon Carroll', 'Basil Gilliam', 'Mechelle Cobb', 'Edan Booker', 'Igor Wyatt', 'Ethan Franklin', 'Reed Williamson', 'Price Singleton'],\n",
        "  'email': ['Lorem.ipsum@cursusvestibulumMauris.com', 'auctor@magnis.org', 'at@magnaUttincidunt.org', 'mauris.sagittis@sem.com', 'nec.euismod.in@mattis.co.uk', 'egestas@massaMaurisvestibulum.edu', 'semper.auctor.Mauris@Crasdolordolor.edu', 'risus.Quisque@condimentum.com', 'Donec@nislMaecenasmalesuada.net', 'Aenean.gravida@atrisus.edu'],\n",
        "  'enviado': [False, False, False, False, False, False, False, True, False, False]\n",
        "}\n",
        "\n",
        "  dados_2 = {\n",
        "  'nome': ['Travis Shepherd', 'Hoyt Glass', 'Jennifer Aguirre', 'Cassady Ayers', 'Colin Myers', 'Herrod Curtis', 'Cecilia Park', 'Hop Byrd', 'Beatrice Silva', 'Alden Morales'],\n",
        "  'email': ['at@sed.org', 'ac.arcu.Nunc@auctor.edu', 'nunc.Quisque.ornare@nibhAliquam.co.uk', 'non.arcu@mauriseu.com', 'fringilla.cursus.purus@erategetipsum.ca', 'Fusce.fermentum@tellus.co.uk', 'dolor.tempus.non@ipsum.net', 'blandit.congue.In@libero.com', 'nec.tempus.mauris@Suspendisse.com', 'felis@urnaconvalliserat.org'],\n",
        "  'enviado': [False, False, False, True, True, True, False, True, True, False]\n",
        "}"
      ]
    },
    {
      "cell_type": "code",
      "metadata": {
        "id": "KKF6F6sm3UNl",
        "outputId": "c09dc3f4-6711-43d3-bd16-59cfdba65cf0",
        "colab": {
          "base_uri": "https://localhost:8080/",
          "height": 156
        }
      },
      "source": [
        "def extrair_lista_email(dict_1, dict_2):\n",
        "  \n",
        "  list_1 = list(zip(dict_1['nome'], dict_1['email'], dict_1['enviado']))\n",
        "  print(f'Amostra da lista 1: {list_1[0]}\\n')\n",
        "\n",
        "  list_2 = list(zip(dict_2['nome'], dict_2['email'], dict_2['enviado']))\n",
        "\n",
        "  dados = list_1 + list_2\n",
        "  print(f'Amostra dos dados: {dados[:2]}\\n\\n')\n",
        "\n",
        "  emails = [item[1] for item in dados if not item[2]]\n",
        "\n",
        "  return emails\n",
        "\n",
        "\n",
        "\n",
        "dados_1 = { 'nome': ['Sonia Weber', 'Daryl Lowe', 'Vernon Carroll', 'Basil Gilliam', 'Mechelle Cobb', 'Edan Booker', 'Igor Wyatt', 'Ethan Franklin', 'Reed Williamson', 'Price Singleton'],\n",
        "           'email': ['Lorem.ipsum@cursusvestibulumMauris.com', 'auctor@magnis.org', 'at@magnaUttincidunt.org', 'mauris.sagittis@sem.com', 'nec.euismod.in@mattis.co.uk', 'egestas@massaMaurisvestibulum.edu', 'semper.auctor.Mauris@Crasdolordolor.edu', 'risus.Quisque@condimentum.com', 'Donec@nislMaecenasmalesuada.net', 'Aenean.gravida@atrisus.edu'],\n",
        "           'enviado': [False, False, False, False, False, False, False, True, False, False] }\n",
        "\n",
        "dados_2 = { 'nome': ['Travis Shepherd', 'Hoyt Glass', 'Jennifer Aguirre', 'Cassady Ayers', 'Colin Myers', 'Herrod Curtis', 'Cecilia Park', 'Hop Byrd', 'Beatrice Silva', 'Alden Morales'], \n",
        "           'email': ['at@sed.org', 'ac.arcu.Nunc@auctor.edu', 'nunc.Quisque.ornare@nibhAliquam.co.uk', 'non.arcu@mauriseu.com', 'fringilla.cursus.purus@erategetipsum.ca', 'Fusce.fermentum@tellus.co.uk', 'dolor.tempus.non@ipsum.net', 'blandit.congue.In@libero.com', 'nec.tempus.mauris@Suspendisse.com', 'felis@urnaconvalliserat.org'],\n",
        "           'enviado': [False, False, False, True, True, True, False, True, True, False] }\n",
        "\n",
        "emails = extrair_lista_email(dict_1=dados_1, dict_2=dados_2)\n",
        "print(f'Emails a serem enviados:\\n {emails}')\n"
      ],
      "execution_count": null,
      "outputs": [
        {
          "output_type": "stream",
          "text": [
            "Amostra da lista 1: ('Sonia Weber', 'Lorem.ipsum@cursusvestibulumMauris.com', False)\n",
            "\n",
            "Amostra dos dados: [('Sonia Weber', 'Lorem.ipsum@cursusvestibulumMauris.com', False), ('Daryl Lowe', 'auctor@magnis.org', False)]\n",
            "\n",
            "\n",
            "Emails a serem enviados:\n",
            " ['Lorem.ipsum@cursusvestibulumMauris.com', 'auctor@magnis.org', 'at@magnaUttincidunt.org', 'mauris.sagittis@sem.com', 'nec.euismod.in@mattis.co.uk', 'egestas@massaMaurisvestibulum.edu', 'semper.auctor.Mauris@Crasdolordolor.edu', 'Donec@nislMaecenasmalesuada.net', 'Aenean.gravida@atrisus.edu', 'at@sed.org', 'ac.arcu.Nunc@auctor.edu', 'nunc.Quisque.ornare@nibhAliquam.co.uk', 'dolor.tempus.non@ipsum.net', 'felis@urnaconvalliserat.org']\n"
          ],
          "name": "stdout"
        }
      ]
    },
    {
      "cell_type": "markdown",
      "metadata": {
        "id": "HFC9I_Am7vLJ"
      },
      "source": [
        ""
      ]
    },
    {
      "cell_type": "markdown",
      "metadata": {
        "id": "2lfSrkjH7-Ip"
      },
      "source": [
        ""
      ]
    },
    {
      "cell_type": "markdown",
      "metadata": {
        "id": "38aDP_I38D_R"
      },
      "source": [
        "# **Aula 02 - u2s2** - Algoritimos de Busca"
      ]
    },
    {
      "cell_type": "code",
      "metadata": {
        "id": "CKop0MWDByEw",
        "outputId": "c621bdbd-8867-4968-b71d-b607f335cc79",
        "colab": {
          "base_uri": "https://localhost:8080/",
          "height": 51
        }
      },
      "source": [
        "# Algoritimos de Busca\n",
        "\n",
        "nomes = 'João Paulo André Tiago'.split()\n",
        "\n",
        "print('Paulo' in nomes)\n",
        "print('Paulo' not in nomes)"
      ],
      "execution_count": null,
      "outputs": [
        {
          "output_type": "stream",
          "text": [
            "True\n",
            "False\n"
          ],
          "name": "stdout"
        }
      ]
    },
    {
      "cell_type": "code",
      "metadata": {
        "id": "-W7SkO2gKsDm",
        "outputId": "37553e1c-395f-4d96-9894-c32f4e63bc7a",
        "colab": {
          "base_uri": "https://localhost:8080/",
          "height": 34
        }
      },
      "source": [
        "# Busca Linear - Usando o index()\n",
        "\n",
        "vogais = 'aeiou'\n",
        "resultado = vogais.index('a')\n",
        "print(f\"O index é: {resultado_1} \")\n",
        "\n",
        "# Se o valor procurado não for encontrado, retornará um erro (valueerror)"
      ],
      "execution_count": null,
      "outputs": [
        {
          "output_type": "stream",
          "text": [
            "O index é: 4 \n"
          ],
          "name": "stdout"
        }
      ]
    },
    {
      "cell_type": "code",
      "metadata": {
        "id": "8rk5o6qeCRi2",
        "outputId": "dfe7545d-cd79-44c7-93cf-b9ef902a5a22",
        "colab": {
          "base_uri": "https://localhost:8080/",
          "height": 51
        }
      },
      "source": [
        "# Busca Linear - Busca de index com algoritimo próprio\n",
        "\n",
        "def buscar_index(lista, valor):\n",
        "  tamanho_lista = len(lista)\n",
        "  for i in range(tamanho_lista):\n",
        "    if valor == lista[i]:\n",
        "      return i\n",
        "  return None \n",
        "\n",
        "\n",
        "vogais = 'aeiou'\n",
        "vogal = input(f'Digite o valor que deseja encontar:')\n",
        "\n",
        "resultado = buscar_index(lista=vogais, valor=vogal)\n",
        "\n",
        "if resultado != None:\n",
        "  print(f'O idex é {resultado}')\n",
        "else:\n",
        "  print('O valor não foi encontrado')\n",
        "\n"
      ],
      "execution_count": null,
      "outputs": [
        {
          "output_type": "stream",
          "text": [
            "Digite o valor que deseja encontar:b\n",
            "O valor não foi encontrado\n"
          ],
          "name": "stdout"
        }
      ]
    },
    {
      "cell_type": "code",
      "metadata": {
        "id": "WoyJr_OhO1z0",
        "outputId": "46bb5af6-bce5-4cc4-b14b-41855ec1aeee",
        "colab": {
          "base_uri": "https://localhost:8080/",
          "height": 122
        }
      },
      "source": [
        "# Busca Binária\n",
        "\n",
        "def executar_busca_binaria(lista, valor):\n",
        "  minimo = 0\n",
        "  maximo = len(lista) - 1\n",
        "\n",
        "  while minimo <= maximo:\n",
        "    meio = (maximo + minimo) //2\n",
        "    \n",
        "    if valor < lista[meio]:\n",
        "      maximo = meio - 1\n",
        "    elif valor > lista[meio]:\n",
        "      minimo = meio + 1\n",
        "    else:\n",
        "      return True\n",
        "  return False\n",
        "\n",
        "lista = list(range(0, 50))\n",
        "print(lista)\n",
        "\n",
        "print('\\n', executar_busca_binaria(lista=lista, valor=10))\n",
        "print('\\n', executar_busca_binaria(lista=lista, valor=100))\n",
        "\n"
      ],
      "execution_count": null,
      "outputs": [
        {
          "output_type": "stream",
          "text": [
            "[0, 1, 2, 3, 4, 5, 6, 7, 8, 9, 10, 11, 12, 13, 14, 15, 16, 17, 18, 19, 20, 21, 22, 23, 24, 25, 26, 27, 28, 29, 30, 31, 32, 33, 34, 35, 36, 37, 38, 39, 40, 41, 42, 43, 44, 45, 46, 47, 48, 49]\n",
            "\n",
            " True\n",
            "\n",
            " False\n"
          ],
          "name": "stdout"
        }
      ]
    },
    {
      "cell_type": "code",
      "metadata": {
        "id": "Co_cM585_Ou8",
        "outputId": "6023064e-b239-45ee-d5e9-7d73dc497211",
        "colab": {
          "base_uri": "https://localhost:8080/",
          "height": 51
        }
      },
      "source": [
        "# Busca Binária - Encontrar o valor e seu index\n",
        "\n",
        "def buscar_valor(lista, valor):\n",
        "  minimo = 0\n",
        "  maximo = len(lista) - 1\n",
        "\n",
        "  while minimo <= maximo:\n",
        "    meio = (minimo + maximo) // 2\n",
        "    if valor < lista[meio]:\n",
        "      maximo = meio - 1\n",
        "    elif valor > lista[meio]:\n",
        "      minimo = meio + 1\n",
        "    else:\n",
        "      return meio\n",
        "  return None\n",
        "\n",
        "lista = list(range(1, 10))\n",
        "\n",
        "resultado = buscar_valor(lista=lista, valor=5)\n",
        "if resultado:\n",
        "  print(f'\\nValor encontrado na posição {resultado}')\n",
        "else:\n",
        "  print('\\nValor não encontrado!')"
      ],
      "execution_count": null,
      "outputs": [
        {
          "output_type": "stream",
          "text": [
            "\n",
            "Valor encontrado na posição 4\n"
          ],
          "name": "stdout"
        }
      ]
    },
    {
      "cell_type": "markdown",
      "metadata": {
        "id": "oMqOhFLX9814"
      },
      "source": [
        "**Aula 02 - u2s2** - Mercado de Trabalho"
      ]
    },
    {
      "cell_type": "code",
      "metadata": {
        "id": "qSWGy2VdCovj",
        "outputId": "df14a2e8-ca4d-4946-b1a4-5df1e86c04fd",
        "colab": {
          "base_uri": "https://localhost:8080/",
          "height": 34
        }
      },
      "source": [
        "# Dedup #\n",
        "\n",
        "# Parte 1 - Implementar algoritimo de Busca Linear\n",
        "\n",
        "def executar_busca_linear(lista, valor):\n",
        "  tamanho_lista = len(lista)\n",
        "  for i in range(tamanho_lista):\n",
        "    if valor == lista[i]:\n",
        "      return True\n",
        "  return False\n",
        "\n",
        "# Parte 2 - Criação da lista Dedup e tratamento dos cpf's\n",
        "\n",
        "def criar_lista_dedup(lista):\n",
        "  lista_dedup = []\n",
        "  for cpf in lista:\n",
        "    cpf = str(cpf)\n",
        "    cpf = cpf.replace('.', \"\").replace('-', \"\")\n",
        "    if len(cpf) == 11:\n",
        "      if not executar_busca_linear(lista_dedup, cpf):\n",
        "        lista_dedup.append(cpf)\n",
        "  return lista_dedup\n",
        "\n",
        "# Implementação de teste\n",
        "\n",
        "def testar_funcao(lista_cpf):\n",
        "  lista_dedup = criar_lista_dedup(lista_cpf)\n",
        "  print(lista_dedup)\n",
        "\n",
        "lista_cpf = ['111.111.111-11', '11111111111', '222.222.222-22', '333.333.333-33', '22222222222', '444.44444']\n",
        "testar_funcao(lista_cpf)\n",
        "\n",
        "\n"
      ],
      "execution_count": 33,
      "outputs": [
        {
          "output_type": "stream",
          "text": [
            "['11111111111', '22222222222', '33333333333']\n"
          ],
          "name": "stdout"
        }
      ]
    },
    {
      "cell_type": "markdown",
      "metadata": {
        "id": "S7vWxhl89bFd"
      },
      "source": [
        "# **Aula 02 - u2s3** - Algoritimos de Ordenação"
      ]
    },
    {
      "cell_type": "markdown",
      "metadata": {
        "id": "a61QOnHq-QIo"
      },
      "source": [
        "**Aula 02 - u2s3** - Mercado de Trabalho"
      ]
    }
  ]
}