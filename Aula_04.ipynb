{
  "nbformat": 4,
  "nbformat_minor": 0,
  "metadata": {
    "colab": {
      "name": "Aula 04",
      "provenance": [],
      "authorship_tag": "ABX9TyOunbZ4r/OgMv/NY8fD18Z8",
      "include_colab_link": true
    },
    "kernelspec": {
      "name": "python3",
      "display_name": "Python 3"
    }
  },
  "cells": [
    {
      "cell_type": "markdown",
      "metadata": {
        "id": "view-in-github",
        "colab_type": "text"
      },
      "source": [
        "<a href=\"https://colab.research.google.com/github/pierrebomfim/python-exercises/blob/master/Aula_04.ipynb\" target=\"_parent\"><img src=\"https://colab.research.google.com/assets/colab-badge.svg\" alt=\"Open In Colab\"/></a>"
      ]
    },
    {
      "cell_type": "code",
      "metadata": {
        "id": "GSj0EfFfuMG5",
        "outputId": "05a1f824-ae21-4dd2-9b13-54ec601d3d5b",
        "colab": {
          "base_uri": "https://localhost:8080/",
          "height": 156
        }
      },
      "source": [
        "#Dataframes\n",
        "\n",
        "import pandas as pd\n",
        "\n",
        "cliente = {\"Nome\": ['Maria', 'Ana', 'Marcelo'],  # criação de um dicionário\n",
        "           \"Idade\": [33, 26, 45]}\n",
        "print(f'Print do dicionário:\\n {cliente}')\n",
        "\n",
        "\n",
        "dataframe = pd.DataFrame(cliente)  # criação de um dataframe\n",
        "print(f'\\n Print do dataframe:\\n {dataframe}')\n",
        "\n"
      ],
      "execution_count": 6,
      "outputs": [
        {
          "output_type": "stream",
          "text": [
            "Print do dicionário:\n",
            " {'Nome': ['Maria', 'Ana', 'Marcelo'], 'Idade': [33, 26, 45]}\n",
            "\n",
            " Print do dataframe:\n",
            "       Nome  Idade\n",
            "0    Maria     33\n",
            "1      Ana     26\n",
            "2  Marcelo     45\n"
          ],
          "name": "stdout"
        }
      ]
    },
    {
      "cell_type": "code",
      "metadata": {
        "id": "slW2KnBiwpIN",
        "outputId": "b83b96c0-d7c8-42d2-d115-c6b97d5cdc16",
        "colab": {
          "base_uri": "https://localhost:8080/",
          "height": 173
        }
      },
      "source": [
        "# Séries\n",
        "\n",
        "import pandas as pd\n",
        "import numpy as np\n",
        "\n",
        "vetor = np.array([5, 6, 7 ,8])\n",
        "print(f'Print do vetor:\\n {vetor}')\n",
        "\n",
        "v = pd.Series(vetor)\n",
        "print(f'\\nPrint da série:\\n {v}')"
      ],
      "execution_count": 9,
      "outputs": [
        {
          "output_type": "stream",
          "text": [
            "Print do vetor:\n",
            " [5 6 7 8]\n",
            "\n",
            " Print da série:\n",
            " 0    5\n",
            "1    6\n",
            "2    7\n",
            "3    8\n",
            "dtype: int64\n"
          ],
          "name": "stdout"
        }
      ]
    },
    {
      "cell_type": "markdown",
      "metadata": {
        "id": "U_aNBmBo0Qql"
      },
      "source": [
        "Situação Problema 1\n",
        "- Dataframe\n",
        "- Nomes\n",
        "- Média de idades\n",
        "- série com vendedores, com index atribuido"
      ]
    },
    {
      "cell_type": "code",
      "metadata": {
        "id": "p98RdP580UU6",
        "outputId": "e03cd166-3a53-4fc0-c0ca-332dbf5372e3",
        "colab": {
          "base_uri": "https://localhost:8080/",
          "height": 278
        }
      },
      "source": [
        "import pandas as pd\n",
        "\n",
        "cliente = {\"Nome\": ['Maria', 'Ana', 'Marcelo'],  # criação de um dicionário\n",
        "           \"Idade\": [33, 26, 45],\n",
        "           \"Fone\": [99894021, 99849856, 99870908]}\n",
        "\n",
        "df = pd.DataFrame(cliente)\n",
        "print(df)\n",
        "print()\n",
        "\n",
        "print(df.Nome)\n",
        "print()\n",
        "\n",
        "media = df.Idade.mean()\n",
        "print(media)\n",
        "print()\n",
        "\n",
        "s = pd.Series(('Carla', 'Lis'), index = ['03', '07'])\n",
        "print(s)\n",
        "\n"
      ],
      "execution_count": 18,
      "outputs": [
        {
          "output_type": "stream",
          "text": [
            "      Nome  Idade      Fone\n",
            "0    Maria     33  99894021\n",
            "1      Ana     26  99849856\n",
            "2  Marcelo     45  99870908\n",
            "\n",
            "0      Maria\n",
            "1        Ana\n",
            "2    Marcelo\n",
            "Name: Nome, dtype: object\n",
            "\n",
            "34.666666666666664\n",
            "\n",
            "03    Carla\n",
            "07      Lis\n",
            "dtype: object\n"
          ],
          "name": "stdout"
        }
      ]
    }
  ]
}