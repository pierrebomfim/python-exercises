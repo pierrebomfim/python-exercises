{
  "nbformat": 4,
  "nbformat_minor": 0,
  "metadata": {
    "colab": {
      "name": "Aula 4_SP 2",
      "provenance": [],
      "authorship_tag": "ABX9TyNcQ9/X5W5LssawLpbLhqDK",
      "include_colab_link": true
    },
    "kernelspec": {
      "name": "python3",
      "display_name": "Python 3"
    }
  },
  "cells": [
    {
      "cell_type": "markdown",
      "metadata": {
        "id": "view-in-github",
        "colab_type": "text"
      },
      "source": [
        "<a href=\"https://colab.research.google.com/github/pierrebomfim/python-exercises/blob/master/Aula_4_SP_2.ipynb\" target=\"_parent\"><img src=\"https://colab.research.google.com/assets/colab-badge.svg\" alt=\"Open In Colab\"/></a>"
      ]
    },
    {
      "cell_type": "markdown",
      "metadata": {
        "id": "VwKjMKRNBaA6"
      },
      "source": [
        "- Acessar um banco de dados existente ( acabei criando um novo)\n",
        "- Realizar alteração de dados, criando um novo dataframe"
      ]
    },
    {
      "cell_type": "code",
      "metadata": {
        "id": "_c1dziaA5AH7"
      },
      "source": [
        "import sqlite3\n",
        "\n",
        "conector = sqlite3.connect('cadastro.db')\n",
        "cursor = conector.cursor()\n",
        "\n",
        "sql = \"create table clientes (nome text, idade integer, telefone integer)\"\n",
        "cursor.execute(sql)\n",
        "\n",
        "conector.commit()\n",
        "cursor.close()\n",
        "conector.close()"
      ],
      "execution_count": 1,
      "outputs": []
    },
    {
      "cell_type": "code",
      "metadata": {
        "id": "8zHIlMfW79Pw"
      },
      "source": [
        "conector = sqlite3.connect('cadastro.db')\n",
        "cursor = conector.cursor()\n",
        "\n",
        "sql = \"insert into clientes (nome, idade, telefone) values ('Ana', 22, 98987645)\"\n",
        "cursor.execute(sql)\n",
        "\n",
        "conector.commit()\n",
        "cursor.close()\n",
        "conector.close()"
      ],
      "execution_count": 2,
      "outputs": []
    },
    {
      "cell_type": "code",
      "metadata": {
        "id": "9S8SEO7Y8hmm",
        "outputId": "0e68f848-e220-41da-9f8c-05bae2094078",
        "colab": {
          "base_uri": "https://localhost:8080/",
          "height": 34
        }
      },
      "source": [
        "conector = sqlite3.connect('cadastro.db')\n",
        "cursor = conector.cursor()\n",
        "\n",
        "sql = \"select * from clientes\"\n",
        "cursor.execute(sql)\n",
        "\n",
        "dados = cursor.fetchall()\n",
        "for d in dados:\n",
        "  print(d)\n",
        "\n",
        "cursor.close()\n",
        "conector.close()"
      ],
      "execution_count": 3,
      "outputs": [
        {
          "output_type": "stream",
          "text": [
            "('Ana', 22, 98987645)\n"
          ],
          "name": "stdout"
        }
      ]
    },
    {
      "cell_type": "code",
      "metadata": {
        "id": "AWb5d7449ukD"
      },
      "source": [
        "conector = sqlite3.connect('cadastro.db')\n",
        "cursor = conector.cursor()\n",
        "\n",
        "sql = \"insert into clientes (nome, idade, telefone) values ('Carlos', 32, 98887654)\"\n",
        "cursor.execute(sql)\n",
        "\n",
        "sql = \"insert into clientes (nome, idade, telefone) values ('Lucas', 45, 96785432)\"\n",
        "cursor.execute(sql)\n",
        "\n",
        "sql = \"insert into clientes (nome, idade, telefone) values ('Tiago', 18, 98907645)\"\n",
        "cursor.execute(sql)\n",
        "\n",
        "conector.commit()\n",
        "cursor.close()\n",
        "conector.close()"
      ],
      "execution_count": 5,
      "outputs": []
    },
    {
      "cell_type": "code",
      "metadata": {
        "id": "HzpHLjWi9Ojz",
        "outputId": "ef722920-ddb5-44a2-b731-adf112405314",
        "colab": {
          "base_uri": "https://localhost:8080/",
          "height": 102
        }
      },
      "source": [
        "import pandas as pd\n",
        "conector = sqlite3.connect('cadastro.db')\n",
        "cursor = conector.cursor()\n",
        "\n",
        "df = pd.read_sql_query('select * from clientes', conector)\n",
        "print(df)\n"
      ],
      "execution_count": 6,
      "outputs": [
        {
          "output_type": "stream",
          "text": [
            "     nome  idade  telefone\n",
            "0     Ana     22  98987645\n",
            "1  Carlos     32  98887654\n",
            "2   Lucas     45  96785432\n",
            "3   Tiago     18  98907645\n"
          ],
          "name": "stdout"
        }
      ]
    },
    {
      "cell_type": "code",
      "metadata": {
        "id": "SdTA8sKJ-NCW",
        "outputId": "07197264-987c-4d09-e3d5-4497105ebdda",
        "colab": {
          "base_uri": "https://localhost:8080/",
          "height": 85
        }
      },
      "source": [
        "import pandas as pd\n",
        "conector = sqlite3.connect('cadastro.db')\n",
        "cursor = conector.cursor()\n",
        "\n",
        "data = pd.DataFrame([[101, 'blusa', 39.9], [102, 'short', 54.9], [103, 'calça', 99.9]],\n",
        "                    columns = ['id', 'descrição', 'valor'])\n",
        "data.to_sql('produtos', conector)\n",
        "\n",
        "df = pd.read_sql_query('select * from produtos', conector)\n",
        "print(df)"
      ],
      "execution_count": 12,
      "outputs": [
        {
          "output_type": "stream",
          "text": [
            "   index   id descrição  valor\n",
            "0      0  101     blusa   39.9\n",
            "1      1  102     short   54.9\n",
            "2      2  103     calça   99.9\n"
          ],
          "name": "stdout"
        }
      ]
    }
  ]
}