{
  "nbformat": 4,
  "nbformat_minor": 0,
  "metadata": {
    "colab": {
      "name": "Atividades.ipynb",
      "provenance": [],
      "authorship_tag": "ABX9TyOXZSJ7GfAmcx3roOHzS1bo",
      "include_colab_link": true
    },
    "kernelspec": {
      "name": "python3",
      "display_name": "Python 3"
    }
  },
  "cells": [
    {
      "cell_type": "markdown",
      "metadata": {
        "id": "view-in-github",
        "colab_type": "text"
      },
      "source": [
        "<a href=\"https://colab.research.google.com/github/pierrebomfim/python-exercises/blob/master/Atividades.ipynb\" target=\"_parent\"><img src=\"https://colab.research.google.com/assets/colab-badge.svg\" alt=\"Open In Colab\"/></a>"
      ]
    },
    {
      "cell_type": "markdown",
      "metadata": {
        "id": "UlPaTcCVSnyN"
      },
      "source": [
        "Atividade do aluno - aula 01"
      ]
    },
    {
      "cell_type": "code",
      "metadata": {
        "id": "5rBc_OxgSwlJ",
        "outputId": "bc3b6234-d701-4c53-d472-ab52ea4f7bf8",
        "colab": {
          "base_uri": "https://localhost:8080/",
          "height": 102
        }
      },
      "source": [
        "\"\"\"\n",
        "Faça um programa que realize o cálculo da média utilizando a linguagem Python. Para isso,\n",
        "peça ao usuário o valor de quatros notas de provas, faça o cálculo da média e retorne se o\n",
        "aluno foi aprovado ou reprovado para o usuário. Para um aluno ser aprovado, sua média\n",
        "deve ser igual ou superior a sete. Utilize o conceito de funções para resolver este problema. 29/09/2020\n",
        "\"\"\"\n",
        "\n",
        "def ValorLista():\n",
        "    lista.append(float(input(\"Digite sua nota da prova 1: \")))\n",
        "    lista.append(float(input(\"Digite sua nota da prova 2: \")))\n",
        "    lista.append(float(input(\"Digite sua nota da prova 3: \")))\n",
        "    lista.append(float(input(\"Digite sua nota da prova 4: \")))\n",
        "\n",
        "def Media():\n",
        "    s = 0\n",
        "    for i in range (len(lista)):\n",
        "        s = s + lista[i]\n",
        "    m = s / 4\n",
        "    return m\n",
        "\n",
        "def Resultado():\n",
        "    if m >= 7:\n",
        "        print(\"Aprovado\")\n",
        "    else:\n",
        "        print(\"Reprovado\")\n",
        "\n",
        "lista = []\n",
        "ValorLista()\n",
        "m = Media()\n",
        "Resultado()"
      ],
      "execution_count": 1,
      "outputs": [
        {
          "output_type": "stream",
          "text": [
            "Digite sua nota da prova 1: 7\n",
            "Digite sua nota da prova 2: 7\n",
            "Digite sua nota da prova 3: 7\n",
            "Digite sua nota da prova 4: 7\n",
            "Aprovado\n"
          ],
          "name": "stdout"
        }
      ]
    }
  ]
}